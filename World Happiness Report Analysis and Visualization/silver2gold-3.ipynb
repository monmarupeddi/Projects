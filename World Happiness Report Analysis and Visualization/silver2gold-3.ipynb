{
 "cells": [
  {
   "cell_type": "code",
   "execution_count": 0,
   "metadata": {
    "application/vnd.databricks.v1+cell": {
     "cellMetadata": {
      "byteLimit": 2048000,
      "rowLimit": 10000
     },
     "inputWidgets": {},
     "nuid": "44f6865f-e712-410d-8fbd-e05021c824b8",
     "showTitle": false,
     "title": ""
    }
   },
   "outputs": [
    {
     "output_type": "execute_result",
     "data": {
      "text/plain": [
       "[FileInfo(path='dbfs:/mnt/silverhdata/2017-2024/', name='2017-2024/', size=0, modificationTime=1712345904000),\n",
       " FileInfo(path='dbfs:/mnt/silverhdata/2017-2024.csv/', name='2017-2024.csv/', size=0, modificationTime=1712340469000),\n",
       " FileInfo(path='dbfs:/mnt/silverhdata/2024/', name='2024/', size=0, modificationTime=1712345912000),\n",
       " FileInfo(path='dbfs:/mnt/silverhdata/2024.csv/', name='2024.csv/', size=0, modificationTime=1712340469000)]"
      ]
     },
     "execution_count": 12,
     "metadata": {},
     "output_type": "execute_result"
    }
   ],
   "source": [
    "dbutils.fs.ls(\"mnt/silverhdata/\")"
   ]
  },
  {
   "cell_type": "code",
   "execution_count": 0,
   "metadata": {
    "application/vnd.databricks.v1+cell": {
     "cellMetadata": {
      "byteLimit": 2048000,
      "rowLimit": 10000
     },
     "inputWidgets": {},
     "nuid": "99aa4dd3-ceec-4351-8674-5a25d6a02a4a",
     "showTitle": false,
     "title": ""
    }
   },
   "outputs": [
    {
     "output_type": "display_data",
     "data": {
      "text/html": [
       "<style scoped>\n",
       "  .table-result-container {\n",
       "    max-height: 300px;\n",
       "    overflow: auto;\n",
       "  }\n",
       "  table, th, td {\n",
       "    border: 1px solid black;\n",
       "    border-collapse: collapse;\n",
       "  }\n",
       "  th, td {\n",
       "    padding: 5px;\n",
       "  }\n",
       "  th {\n",
       "    text-align: left;\n",
       "  }\n",
       "</style><div class='table-result-container'><table class='table-result'><thead style='background-color: white'><tr><th>country_name</th><th>year</th><th>score</th><th>gdp</th><th>social_support</th><th>healthy_life_expectancy</th><th>freedom_rights</th><th>generosity</th><th>corruption</th></tr></thead><tbody><tr><td>Afghanistan</td><td>2023</td><td>1.446</td><td>null</td><td>0.368</td><td>55.2</td><td>0.228</td><td>null</td><td>0.738</td></tr><tr><td>Albania</td><td>2023</td><td>5.445</td><td>9.689</td><td>0.691</td><td>69.2</td><td>0.872</td><td>0.068</td><td>0.855</td></tr><tr><td>Argentina</td><td>2023</td><td>6.393</td><td>9.994</td><td>0.892</td><td>67.3</td><td>0.832</td><td>-0.129</td><td>0.846</td></tr><tr><td>Armenia</td><td>2023</td><td>5.679</td><td>9.73</td><td>0.819</td><td>68.2</td><td>0.819</td><td>-0.179</td><td>0.681</td></tr><tr><td>Australia</td><td>2023</td><td>7.025</td><td>10.846</td><td>0.896</td><td>71.2</td><td>0.876</td><td>0.187</td><td>0.482</td></tr><tr><td>Austria</td><td>2023</td><td>6.636</td><td>10.93</td><td>0.874</td><td>71.4</td><td>0.874</td><td>0.209</td><td>0.529</td></tr><tr><td>Azerbaijan</td><td>2023</td><td>5.214</td><td>9.637</td><td>0.713</td><td>64.1</td><td>0.829</td><td>-0.16</td><td>0.627</td></tr><tr><td>Bahrain</td><td>2023</td><td>5.959</td><td>10.877</td><td>0.817</td><td>65.6</td><td>0.869</td><td>0.155</td><td>null</td></tr><tr><td>Bangladesh</td><td>2023</td><td>4.114</td><td>8.783</td><td>0.45</td><td>64.8</td><td>0.919</td><td>0.019</td><td>0.756</td></tr><tr><td>Belgium</td><td>2023</td><td>6.944</td><td>10.883</td><td>0.896</td><td>71.2</td><td>0.87</td><td>0.065</td><td>0.522</td></tr></tbody></table></div>"
      ]
     },
     "metadata": {
      "application/vnd.databricks.v1+output": {
       "addedWidgets": {},
       "aggData": [],
       "aggError": "",
       "aggOverflow": false,
       "aggSchema": [],
       "aggSeriesLimitReached": false,
       "aggType": "",
       "arguments": {},
       "columnCustomDisplayInfos": {},
       "data": [
        [
         "Afghanistan",
         2023,
         1.446,
         null,
         0.368,
         55.2,
         0.228,
         null,
         0.738
        ],
        [
         "Albania",
         2023,
         5.445,
         9.689,
         0.691,
         69.2,
         0.872,
         0.068,
         0.855
        ],
        [
         "Argentina",
         2023,
         6.393,
         9.994,
         0.892,
         67.3,
         0.832,
         -0.129,
         0.846
        ],
        [
         "Armenia",
         2023,
         5.679,
         9.73,
         0.819,
         68.2,
         0.819,
         -0.179,
         0.681
        ],
        [
         "Australia",
         2023,
         7.025,
         10.846,
         0.896,
         71.2,
         0.876,
         0.187,
         0.482
        ],
        [
         "Austria",
         2023,
         6.636,
         10.93,
         0.874,
         71.4,
         0.874,
         0.209,
         0.529
        ],
        [
         "Azerbaijan",
         2023,
         5.214,
         9.637,
         0.713,
         64.1,
         0.829,
         -0.16,
         0.627
        ],
        [
         "Bahrain",
         2023,
         5.959,
         10.877,
         0.817,
         65.6,
         0.869,
         0.155,
         null
        ],
        [
         "Bangladesh",
         2023,
         4.114,
         8.783,
         0.45,
         64.8,
         0.919,
         0.019,
         0.756
        ],
        [
         "Belgium",
         2023,
         6.944,
         10.883,
         0.896,
         71.2,
         0.87,
         0.065,
         0.522
        ]
       ],
       "datasetInfos": [],
       "dbfsResultPath": null,
       "isJsonSchema": true,
       "metadata": {},
       "overflow": false,
       "plotOptions": {
        "customPlotOptions": {},
        "displayType": "table",
        "pivotAggregation": null,
        "pivotColumns": null,
        "xColumns": null,
        "yColumns": null
       },
       "removedWidgets": [],
       "schema": [
        {
         "metadata": "{}",
         "name": "country_name",
         "type": "\"string\""
        },
        {
         "metadata": "{}",
         "name": "year",
         "type": "\"integer\""
        },
        {
         "metadata": "{}",
         "name": "score",
         "type": "\"double\""
        },
        {
         "metadata": "{}",
         "name": "gdp",
         "type": "\"double\""
        },
        {
         "metadata": "{}",
         "name": "social_support",
         "type": "\"double\""
        },
        {
         "metadata": "{}",
         "name": "healthy_life_expectancy",
         "type": "\"double\""
        },
        {
         "metadata": "{}",
         "name": "freedom_rights",
         "type": "\"double\""
        },
        {
         "metadata": "{}",
         "name": "generosity",
         "type": "\"double\""
        },
        {
         "metadata": "{}",
         "name": "corruption",
         "type": "\"double\""
        }
       ],
       "type": "table"
      }
     },
     "output_type": "display_data"
    },
    {
     "output_type": "display_data",
     "data": {
      "text/html": [
       "<style scoped>\n",
       "  .table-result-container {\n",
       "    max-height: 300px;\n",
       "    overflow: auto;\n",
       "  }\n",
       "  table, th, td {\n",
       "    border: 1px solid black;\n",
       "    border-collapse: collapse;\n",
       "  }\n",
       "  th, td {\n",
       "    padding: 5px;\n",
       "  }\n",
       "  th {\n",
       "    text-align: left;\n",
       "  }\n",
       "</style><div class='table-result-container'><table class='table-result'><thead style='background-color: white'><tr><th>country_name</th><th>year</th><th>score</th><th>gdp</th><th>social_support</th><th>healthy_life_expectancy</th><th>freedom_rights</th><th>generosity</th><th>corruption</th></tr></thead><tbody><tr><td>Afghanistan</td><td>2008</td><td>3.724</td><td>7.35</td><td>0.451</td><td>50.5</td><td>0.718</td><td>0.164</td><td>0.882</td></tr><tr><td>Afghanistan</td><td>2009</td><td>4.402</td><td>7.509</td><td>0.552</td><td>50.8</td><td>0.679</td><td>0.187</td><td>0.85</td></tr><tr><td>Afghanistan</td><td>2010</td><td>4.758</td><td>7.614</td><td>0.539</td><td>51.1</td><td>0.6</td><td>0.118</td><td>0.707</td></tr><tr><td>Afghanistan</td><td>2011</td><td>3.832</td><td>7.581</td><td>0.521</td><td>51.4</td><td>0.496</td><td>0.16</td><td>0.731</td></tr><tr><td>Afghanistan</td><td>2012</td><td>3.783</td><td>7.661</td><td>0.521</td><td>51.7</td><td>0.531</td><td>0.234</td><td>0.776</td></tr><tr><td>Afghanistan</td><td>2013</td><td>3.572</td><td>7.68</td><td>0.484</td><td>52.0</td><td>0.578</td><td>0.059</td><td>0.823</td></tr><tr><td>Afghanistan</td><td>2014</td><td>3.131</td><td>7.671</td><td>0.526</td><td>52.3</td><td>0.509</td><td>0.102</td><td>0.871</td></tr><tr><td>Afghanistan</td><td>2015</td><td>3.983</td><td>7.654</td><td>0.529</td><td>52.6</td><td>0.389</td><td>0.078</td><td>0.881</td></tr><tr><td>Afghanistan</td><td>2016</td><td>4.22</td><td>7.65</td><td>0.559</td><td>52.925</td><td>0.523</td><td>0.04</td><td>0.793</td></tr><tr><td>Afghanistan</td><td>2017</td><td>2.662</td><td>7.648</td><td>0.491</td><td>53.25</td><td>0.427</td><td>-0.123</td><td>0.954</td></tr></tbody></table></div>"
      ]
     },
     "metadata": {
      "application/vnd.databricks.v1+output": {
       "addedWidgets": {},
       "aggData": [],
       "aggError": "",
       "aggOverflow": false,
       "aggSchema": [],
       "aggSeriesLimitReached": false,
       "aggType": "",
       "arguments": {},
       "columnCustomDisplayInfos": {},
       "data": [
        [
         "Afghanistan",
         2008,
         3.724,
         7.35,
         0.451,
         50.5,
         0.718,
         0.164,
         0.882
        ],
        [
         "Afghanistan",
         2009,
         4.402,
         7.509,
         0.552,
         50.8,
         0.679,
         0.187,
         0.85
        ],
        [
         "Afghanistan",
         2010,
         4.758,
         7.614,
         0.539,
         51.1,
         0.6,
         0.118,
         0.707
        ],
        [
         "Afghanistan",
         2011,
         3.832,
         7.581,
         0.521,
         51.4,
         0.496,
         0.16,
         0.731
        ],
        [
         "Afghanistan",
         2012,
         3.783,
         7.661,
         0.521,
         51.7,
         0.531,
         0.234,
         0.776
        ],
        [
         "Afghanistan",
         2013,
         3.572,
         7.68,
         0.484,
         52.0,
         0.578,
         0.059,
         0.823
        ],
        [
         "Afghanistan",
         2014,
         3.131,
         7.671,
         0.526,
         52.3,
         0.509,
         0.102,
         0.871
        ],
        [
         "Afghanistan",
         2015,
         3.983,
         7.654,
         0.529,
         52.6,
         0.389,
         0.078,
         0.881
        ],
        [
         "Afghanistan",
         2016,
         4.22,
         7.65,
         0.559,
         52.925,
         0.523,
         0.04,
         0.793
        ],
        [
         "Afghanistan",
         2017,
         2.662,
         7.648,
         0.491,
         53.25,
         0.427,
         -0.123,
         0.954
        ]
       ],
       "datasetInfos": [],
       "dbfsResultPath": null,
       "isJsonSchema": true,
       "metadata": {},
       "overflow": false,
       "plotOptions": {
        "customPlotOptions": {},
        "displayType": "table",
        "pivotAggregation": null,
        "pivotColumns": null,
        "xColumns": null,
        "yColumns": null
       },
       "removedWidgets": [],
       "schema": [
        {
         "metadata": "{}",
         "name": "country_name",
         "type": "\"string\""
        },
        {
         "metadata": "{}",
         "name": "year",
         "type": "\"integer\""
        },
        {
         "metadata": "{}",
         "name": "score",
         "type": "\"double\""
        },
        {
         "metadata": "{}",
         "name": "gdp",
         "type": "\"double\""
        },
        {
         "metadata": "{}",
         "name": "social_support",
         "type": "\"double\""
        },
        {
         "metadata": "{}",
         "name": "healthy_life_expectancy",
         "type": "\"double\""
        },
        {
         "metadata": "{}",
         "name": "freedom_rights",
         "type": "\"double\""
        },
        {
         "metadata": "{}",
         "name": "generosity",
         "type": "\"double\""
        },
        {
         "metadata": "{}",
         "name": "corruption",
         "type": "\"double\""
        }
       ],
       "type": "table"
      }
     },
     "output_type": "display_data"
    }
   ],
   "source": [
    "# get data from silver container\n",
    "data = \"/mnt/silverhdata/2024/\"\n",
    "data1 =  \"/mnt/silverhdata/2017-2024/\"\n",
    "\n",
    "df = spark.read.format(\"delta\").load(data)\n",
    "df1 = spark.read.format(\"delta\").load(data1)\n",
    "df.limit(10).display()\n",
    "df1.limit(10).display()"
   ]
  },
  {
   "cell_type": "code",
   "execution_count": 0,
   "metadata": {
    "application/vnd.databricks.v1+cell": {
     "cellMetadata": {
      "byteLimit": 2048000,
      "rowLimit": 10000
     },
     "inputWidgets": {},
     "nuid": "4405fb34-bdd0-47b2-9b5d-4ca9232d9381",
     "showTitle": false,
     "title": ""
    }
   },
   "outputs": [
    {
     "output_type": "display_data",
     "data": {
      "text/html": [
       "<style scoped>\n",
       "  .table-result-container {\n",
       "    max-height: 300px;\n",
       "    overflow: auto;\n",
       "  }\n",
       "  table, th, td {\n",
       "    border: 1px solid black;\n",
       "    border-collapse: collapse;\n",
       "  }\n",
       "  th, td {\n",
       "    padding: 5px;\n",
       "  }\n",
       "  th {\n",
       "    text-align: left;\n",
       "  }\n",
       "</style><div class='table-result-container'><table class='table-result'><thead style='background-color: white'><tr><th>country_name</th><th>year</th><th>score</th><th>gdp</th><th>social_support</th><th>healthy_life_expectancy</th><th>freedom_rights</th><th>generosity</th><th>corruption</th><th>rank</th></tr></thead><tbody><tr><td>Finland</td><td>2023</td><td>7.699</td><td>10.808</td><td>0.947</td><td>71.3</td><td>0.943</td><td>-0.001</td><td>0.185</td><td>1</td></tr><tr><td>Iceland</td><td>2023</td><td>7.562</td><td>10.934</td><td>0.979</td><td>72.1</td><td>0.918</td><td>0.299</td><td>0.697</td><td>2</td></tr><tr><td>Denmark</td><td>2023</td><td>7.504</td><td>10.996</td><td>0.916</td><td>71.5</td><td>0.923</td><td>0.089</td><td>0.184</td><td>3</td></tr><tr><td>Costa Rica</td><td>2023</td><td>7.384</td><td>10.021</td><td>0.875</td><td>70.0</td><td>0.933</td><td>-0.067</td><td>0.767</td><td>4</td></tr><tr><td>Netherlands</td><td>2023</td><td>7.255</td><td>10.977</td><td>0.915</td><td>71.7</td><td>0.847</td><td>0.223</td><td>0.424</td><td>5</td></tr><tr><td>Norway</td><td>2023</td><td>7.249</td><td>11.125</td><td>0.952</td><td>71.6</td><td>0.938</td><td>0.219</td><td>0.245</td><td>6</td></tr><tr><td>Sweden</td><td>2023</td><td>7.161</td><td>10.902</td><td>0.927</td><td>72.4</td><td>0.926</td><td>0.147</td><td>0.253</td><td>7</td></tr><tr><td>Kuwait</td><td>2023</td><td>7.13</td><td>10.812</td><td>0.89</td><td>70.0</td><td>0.898</td><td>0.136</td><td>null</td><td>8</td></tr><tr><td>Australia</td><td>2023</td><td>7.025</td><td>10.846</td><td>0.896</td><td>71.2</td><td>0.876</td><td>0.187</td><td>0.482</td><td>9</td></tr><tr><td>Luxembourg</td><td>2023</td><td>7.016</td><td>11.649</td><td>0.879</td><td>71.7</td><td>0.911</td><td>0.033</td><td>0.343</td><td>10</td></tr></tbody></table></div>"
      ]
     },
     "metadata": {
      "application/vnd.databricks.v1+output": {
       "addedWidgets": {},
       "aggData": [],
       "aggError": "",
       "aggOverflow": false,
       "aggSchema": [],
       "aggSeriesLimitReached": false,
       "aggType": "",
       "arguments": {},
       "columnCustomDisplayInfos": {},
       "data": [
        [
         "Finland",
         2023,
         7.699,
         10.808,
         0.947,
         71.3,
         0.943,
         -0.001,
         0.185,
         1
        ],
        [
         "Iceland",
         2023,
         7.562,
         10.934,
         0.979,
         72.1,
         0.918,
         0.299,
         0.697,
         2
        ],
        [
         "Denmark",
         2023,
         7.504,
         10.996,
         0.916,
         71.5,
         0.923,
         0.089,
         0.184,
         3
        ],
        [
         "Costa Rica",
         2023,
         7.384,
         10.021,
         0.875,
         70.0,
         0.933,
         -0.067,
         0.767,
         4
        ],
        [
         "Netherlands",
         2023,
         7.255,
         10.977,
         0.915,
         71.7,
         0.847,
         0.223,
         0.424,
         5
        ],
        [
         "Norway",
         2023,
         7.249,
         11.125,
         0.952,
         71.6,
         0.938,
         0.219,
         0.245,
         6
        ],
        [
         "Sweden",
         2023,
         7.161,
         10.902,
         0.927,
         72.4,
         0.926,
         0.147,
         0.253,
         7
        ],
        [
         "Kuwait",
         2023,
         7.13,
         10.812,
         0.89,
         70.0,
         0.898,
         0.136,
         null,
         8
        ],
        [
         "Australia",
         2023,
         7.025,
         10.846,
         0.896,
         71.2,
         0.876,
         0.187,
         0.482,
         9
        ],
        [
         "Luxembourg",
         2023,
         7.016,
         11.649,
         0.879,
         71.7,
         0.911,
         0.033,
         0.343,
         10
        ]
       ],
       "datasetInfos": [],
       "dbfsResultPath": null,
       "isJsonSchema": true,
       "metadata": {},
       "overflow": false,
       "plotOptions": {
        "customPlotOptions": {},
        "displayType": "table",
        "pivotAggregation": null,
        "pivotColumns": null,
        "xColumns": null,
        "yColumns": null
       },
       "removedWidgets": [],
       "schema": [
        {
         "metadata": "{}",
         "name": "country_name",
         "type": "\"string\""
        },
        {
         "metadata": "{}",
         "name": "year",
         "type": "\"integer\""
        },
        {
         "metadata": "{}",
         "name": "score",
         "type": "\"double\""
        },
        {
         "metadata": "{}",
         "name": "gdp",
         "type": "\"double\""
        },
        {
         "metadata": "{}",
         "name": "social_support",
         "type": "\"double\""
        },
        {
         "metadata": "{}",
         "name": "healthy_life_expectancy",
         "type": "\"double\""
        },
        {
         "metadata": "{}",
         "name": "freedom_rights",
         "type": "\"double\""
        },
        {
         "metadata": "{}",
         "name": "generosity",
         "type": "\"double\""
        },
        {
         "metadata": "{}",
         "name": "corruption",
         "type": "\"double\""
        },
        {
         "metadata": "{}",
         "name": "rank",
         "type": "\"integer\""
        }
       ],
       "type": "table"
      }
     },
     "output_type": "display_data"
    }
   ],
   "source": [
    "from pyspark.sql import functions as F\n",
    "from pyspark.sql.window import Window\n",
    "\n",
    "# sort by score in descending order\n",
    "df = df.orderBy(F.col(\"score\").desc())\n",
    "\n",
    "# add new column with ranks based on score\n",
    "df = df.withColumn(\"rank\", F.rank().over(Window.orderBy(F.col(\"score\").desc())))\n",
    "\n",
    "df.limit(10).display()"
   ]
  },
  {
   "cell_type": "code",
   "execution_count": 0,
   "metadata": {
    "application/vnd.databricks.v1+cell": {
     "cellMetadata": {
      "byteLimit": 2048000,
      "rowLimit": 10000
     },
     "inputWidgets": {},
     "nuid": "6f64e1f5-5984-4043-9ec0-d05bc4f181d7",
     "showTitle": false,
     "title": ""
    }
   },
   "outputs": [
    {
     "output_type": "display_data",
     "data": {
      "text/html": [
       "<style scoped>\n",
       "  .table-result-container {\n",
       "    max-height: 300px;\n",
       "    overflow: auto;\n",
       "  }\n",
       "  table, th, td {\n",
       "    border: 1px solid black;\n",
       "    border-collapse: collapse;\n",
       "  }\n",
       "  th, td {\n",
       "    padding: 5px;\n",
       "  }\n",
       "  th {\n",
       "    text-align: left;\n",
       "  }\n",
       "</style><div class='table-result-container'><table class='table-result'><thead style='background-color: white'><tr><th>country_name</th><th>year</th><th>score</th><th>rank</th><th>gdp</th><th>social_support</th><th>healthy_life_expectancy</th><th>freedom_rights</th><th>generosity</th><th>corruption</th></tr></thead><tbody><tr><td>Finland</td><td>2023</td><td>7.699</td><td>1</td><td>10.808</td><td>0.947</td><td>71.3</td><td>0.943</td><td>-0.001</td><td>0.185</td></tr><tr><td>Iceland</td><td>2023</td><td>7.562</td><td>2</td><td>10.934</td><td>0.979</td><td>72.1</td><td>0.918</td><td>0.299</td><td>0.697</td></tr><tr><td>Denmark</td><td>2023</td><td>7.504</td><td>3</td><td>10.996</td><td>0.916</td><td>71.5</td><td>0.923</td><td>0.089</td><td>0.184</td></tr><tr><td>Costa Rica</td><td>2023</td><td>7.384</td><td>4</td><td>10.021</td><td>0.875</td><td>70.0</td><td>0.933</td><td>-0.067</td><td>0.767</td></tr><tr><td>Netherlands</td><td>2023</td><td>7.255</td><td>5</td><td>10.977</td><td>0.915</td><td>71.7</td><td>0.847</td><td>0.223</td><td>0.424</td></tr><tr><td>Norway</td><td>2023</td><td>7.249</td><td>6</td><td>11.125</td><td>0.952</td><td>71.6</td><td>0.938</td><td>0.219</td><td>0.245</td></tr><tr><td>Sweden</td><td>2023</td><td>7.161</td><td>7</td><td>10.902</td><td>0.927</td><td>72.4</td><td>0.926</td><td>0.147</td><td>0.253</td></tr><tr><td>Kuwait</td><td>2023</td><td>7.13</td><td>8</td><td>10.812</td><td>0.89</td><td>70.0</td><td>0.898</td><td>0.136</td><td>null</td></tr><tr><td>Australia</td><td>2023</td><td>7.025</td><td>9</td><td>10.846</td><td>0.896</td><td>71.2</td><td>0.876</td><td>0.187</td><td>0.482</td></tr><tr><td>Luxembourg</td><td>2023</td><td>7.016</td><td>10</td><td>11.649</td><td>0.879</td><td>71.7</td><td>0.911</td><td>0.033</td><td>0.343</td></tr></tbody></table></div>"
      ]
     },
     "metadata": {
      "application/vnd.databricks.v1+output": {
       "addedWidgets": {},
       "aggData": [],
       "aggError": "",
       "aggOverflow": false,
       "aggSchema": [],
       "aggSeriesLimitReached": false,
       "aggType": "",
       "arguments": {},
       "columnCustomDisplayInfos": {},
       "data": [
        [
         "Finland",
         2023,
         7.699,
         1,
         10.808,
         0.947,
         71.3,
         0.943,
         -0.001,
         0.185
        ],
        [
         "Iceland",
         2023,
         7.562,
         2,
         10.934,
         0.979,
         72.1,
         0.918,
         0.299,
         0.697
        ],
        [
         "Denmark",
         2023,
         7.504,
         3,
         10.996,
         0.916,
         71.5,
         0.923,
         0.089,
         0.184
        ],
        [
         "Costa Rica",
         2023,
         7.384,
         4,
         10.021,
         0.875,
         70.0,
         0.933,
         -0.067,
         0.767
        ],
        [
         "Netherlands",
         2023,
         7.255,
         5,
         10.977,
         0.915,
         71.7,
         0.847,
         0.223,
         0.424
        ],
        [
         "Norway",
         2023,
         7.249,
         6,
         11.125,
         0.952,
         71.6,
         0.938,
         0.219,
         0.245
        ],
        [
         "Sweden",
         2023,
         7.161,
         7,
         10.902,
         0.927,
         72.4,
         0.926,
         0.147,
         0.253
        ],
        [
         "Kuwait",
         2023,
         7.13,
         8,
         10.812,
         0.89,
         70.0,
         0.898,
         0.136,
         null
        ],
        [
         "Australia",
         2023,
         7.025,
         9,
         10.846,
         0.896,
         71.2,
         0.876,
         0.187,
         0.482
        ],
        [
         "Luxembourg",
         2023,
         7.016,
         10,
         11.649,
         0.879,
         71.7,
         0.911,
         0.033,
         0.343
        ]
       ],
       "datasetInfos": [],
       "dbfsResultPath": null,
       "isJsonSchema": true,
       "metadata": {},
       "overflow": false,
       "plotOptions": {
        "customPlotOptions": {},
        "displayType": "table",
        "pivotAggregation": null,
        "pivotColumns": null,
        "xColumns": null,
        "yColumns": null
       },
       "removedWidgets": [],
       "schema": [
        {
         "metadata": "{}",
         "name": "country_name",
         "type": "\"string\""
        },
        {
         "metadata": "{}",
         "name": "year",
         "type": "\"integer\""
        },
        {
         "metadata": "{}",
         "name": "score",
         "type": "\"double\""
        },
        {
         "metadata": "{}",
         "name": "rank",
         "type": "\"integer\""
        },
        {
         "metadata": "{}",
         "name": "gdp",
         "type": "\"double\""
        },
        {
         "metadata": "{}",
         "name": "social_support",
         "type": "\"double\""
        },
        {
         "metadata": "{}",
         "name": "healthy_life_expectancy",
         "type": "\"double\""
        },
        {
         "metadata": "{}",
         "name": "freedom_rights",
         "type": "\"double\""
        },
        {
         "metadata": "{}",
         "name": "generosity",
         "type": "\"double\""
        },
        {
         "metadata": "{}",
         "name": "corruption",
         "type": "\"double\""
        }
       ],
       "type": "table"
      }
     },
     "output_type": "display_data"
    }
   ],
   "source": [
    "# reorder\n",
    "df = df.select(\"country_name\",  \"year\", \"score\", \"rank\",\"gdp\", \"social_support\", \"healthy_life_expectancy\", \"freedom_rights\", \"generosity\", \"corruption\")\n",
    "df.limit(10).display()"
   ]
  },
  {
   "cell_type": "code",
   "execution_count": 0,
   "metadata": {
    "application/vnd.databricks.v1+cell": {
     "cellMetadata": {
      "byteLimit": 2048000,
      "rowLimit": 10000
     },
     "inputWidgets": {},
     "nuid": "20ac7ac8-7004-487c-8a6d-8e11b1954a42",
     "showTitle": false,
     "title": ""
    }
   },
   "outputs": [],
   "source": [
    "# Drop columns in df1 with year less than 2017\n",
    "df1 = df1.filter(\"year >= 2017\")"
   ]
  },
  {
   "cell_type": "code",
   "execution_count": 0,
   "metadata": {
    "application/vnd.databricks.v1+cell": {
     "cellMetadata": {
      "byteLimit": 2048000,
      "rowLimit": 10000
     },
     "inputWidgets": {},
     "nuid": "bef15df8-099f-4135-8eaa-7dd9abc0f16c",
     "showTitle": false,
     "title": ""
    }
   },
   "outputs": [
    {
     "output_type": "display_data",
     "data": {
      "text/html": [
       "<style scoped>\n",
       "  .table-result-container {\n",
       "    max-height: 300px;\n",
       "    overflow: auto;\n",
       "  }\n",
       "  table, th, td {\n",
       "    border: 1px solid black;\n",
       "    border-collapse: collapse;\n",
       "  }\n",
       "  th, td {\n",
       "    padding: 5px;\n",
       "  }\n",
       "  th {\n",
       "    text-align: left;\n",
       "  }\n",
       "</style><div class='table-result-container'><table class='table-result'><thead style='background-color: white'><tr><th>country_name</th><th>year</th><th>score</th><th>gdp</th><th>social_support</th><th>healthy_life_expectancy</th><th>freedom_rights</th><th>generosity</th><th>corruption</th><th>rank</th></tr></thead><tbody><tr><td>Finland</td><td>2017</td><td>7.788</td><td>10.77</td><td>0.964</td><td>70.85</td><td>0.962</td><td>-0.008</td><td>0.192</td><td>1</td></tr><tr><td>Denmark</td><td>2017</td><td>7.594</td><td>10.922</td><td>0.952</td><td>70.75</td><td>0.955</td><td>0.149</td><td>0.181</td><td>2</td></tr><tr><td>Norway</td><td>2017</td><td>7.579</td><td>11.076</td><td>0.95</td><td>71.3</td><td>0.953</td><td>0.228</td><td>0.25</td><td>3</td></tr><tr><td>Iceland</td><td>2017</td><td>7.476</td><td>10.927</td><td>0.967</td><td>71.95</td><td>0.939</td><td>0.24</td><td>0.727</td><td>4</td></tr><tr><td>Switzerland</td><td>2017</td><td>7.474</td><td>11.13</td><td>0.95</td><td>72.1</td><td>0.925</td><td>0.173</td><td>0.316</td><td>5</td></tr><tr><td>Netherlands</td><td>2017</td><td>7.459</td><td>10.917</td><td>0.937</td><td>71.25</td><td>0.92</td><td>0.245</td><td>0.363</td><td>6</td></tr><tr><td>Canada</td><td>2017</td><td>7.415</td><td>10.786</td><td>0.934</td><td>71.2</td><td>0.945</td><td>0.157</td><td>0.362</td><td>7</td></tr><tr><td>Israel</td><td>2017</td><td>7.331</td><td>10.583</td><td>0.916</td><td>72.1</td><td>0.768</td><td>0.138</td><td>0.793</td><td>8</td></tr><tr><td>New Zealand</td><td>2017</td><td>7.327</td><td>10.65</td><td>0.955</td><td>70.05</td><td>0.942</td><td>0.287</td><td>0.222</td><td>9</td></tr><tr><td>Austria</td><td>2017</td><td>7.294</td><td>10.9</td><td>0.906</td><td>70.65</td><td>0.89</td><td>0.128</td><td>0.518</td><td>10</td></tr></tbody></table></div>"
      ]
     },
     "metadata": {
      "application/vnd.databricks.v1+output": {
       "addedWidgets": {},
       "aggData": [],
       "aggError": "",
       "aggOverflow": false,
       "aggSchema": [],
       "aggSeriesLimitReached": false,
       "aggType": "",
       "arguments": {},
       "columnCustomDisplayInfos": {},
       "data": [
        [
         "Finland",
         2017,
         7.788,
         10.77,
         0.964,
         70.85,
         0.962,
         -0.008,
         0.192,
         1
        ],
        [
         "Denmark",
         2017,
         7.594,
         10.922,
         0.952,
         70.75,
         0.955,
         0.149,
         0.181,
         2
        ],
        [
         "Norway",
         2017,
         7.579,
         11.076,
         0.95,
         71.3,
         0.953,
         0.228,
         0.25,
         3
        ],
        [
         "Iceland",
         2017,
         7.476,
         10.927,
         0.967,
         71.95,
         0.939,
         0.24,
         0.727,
         4
        ],
        [
         "Switzerland",
         2017,
         7.474,
         11.13,
         0.95,
         72.1,
         0.925,
         0.173,
         0.316,
         5
        ],
        [
         "Netherlands",
         2017,
         7.459,
         10.917,
         0.937,
         71.25,
         0.92,
         0.245,
         0.363,
         6
        ],
        [
         "Canada",
         2017,
         7.415,
         10.786,
         0.934,
         71.2,
         0.945,
         0.157,
         0.362,
         7
        ],
        [
         "Israel",
         2017,
         7.331,
         10.583,
         0.916,
         72.1,
         0.768,
         0.138,
         0.793,
         8
        ],
        [
         "New Zealand",
         2017,
         7.327,
         10.65,
         0.955,
         70.05,
         0.942,
         0.287,
         0.222,
         9
        ],
        [
         "Austria",
         2017,
         7.294,
         10.9,
         0.906,
         70.65,
         0.89,
         0.128,
         0.518,
         10
        ]
       ],
       "datasetInfos": [],
       "dbfsResultPath": null,
       "isJsonSchema": true,
       "metadata": {},
       "overflow": false,
       "plotOptions": {
        "customPlotOptions": {},
        "displayType": "table",
        "pivotAggregation": null,
        "pivotColumns": null,
        "xColumns": null,
        "yColumns": null
       },
       "removedWidgets": [],
       "schema": [
        {
         "metadata": "{}",
         "name": "country_name",
         "type": "\"string\""
        },
        {
         "metadata": "{}",
         "name": "year",
         "type": "\"integer\""
        },
        {
         "metadata": "{}",
         "name": "score",
         "type": "\"double\""
        },
        {
         "metadata": "{}",
         "name": "gdp",
         "type": "\"double\""
        },
        {
         "metadata": "{}",
         "name": "social_support",
         "type": "\"double\""
        },
        {
         "metadata": "{}",
         "name": "healthy_life_expectancy",
         "type": "\"double\""
        },
        {
         "metadata": "{}",
         "name": "freedom_rights",
         "type": "\"double\""
        },
        {
         "metadata": "{}",
         "name": "generosity",
         "type": "\"double\""
        },
        {
         "metadata": "{}",
         "name": "corruption",
         "type": "\"double\""
        },
        {
         "metadata": "{}",
         "name": "rank",
         "type": "\"integer\""
        }
       ],
       "type": "table"
      }
     },
     "output_type": "display_data"
    }
   ],
   "source": [
    "from pyspark.sql import functions as F\n",
    "from pyspark.sql.window import Window\n",
    "\n",
    "#specify window\n",
    "w = Window.partitionBy('year').orderBy(F.col(\"score\").desc())\n",
    "\n",
    "#add column called 'rank' that contains rank numbers\n",
    "df1 = df1.withColumn('rank', F.rank().over(w))\n",
    "\n",
    "#view DataFrame\n",
    "df1.limit(10).display()"
   ]
  },
  {
   "cell_type": "code",
   "execution_count": 0,
   "metadata": {
    "application/vnd.databricks.v1+cell": {
     "cellMetadata": {
      "byteLimit": 2048000,
      "rowLimit": 10000
     },
     "inputWidgets": {},
     "nuid": "b31d7a8c-8768-46c3-ad2b-3d053f1964f6",
     "showTitle": false,
     "title": ""
    }
   },
   "outputs": [],
   "source": [
    "# reorder the columns\n",
    "df1 = df1.select(\"country_name\",  \"year\", \"score\", \"rank\",\"gdp\", \"social_support\", \"healthy_life_expectancy\", \"freedom_rights\", \"generosity\", \"corruption\")\n"
   ]
  },
  {
   "cell_type": "code",
   "execution_count": 0,
   "metadata": {
    "application/vnd.databricks.v1+cell": {
     "cellMetadata": {
      "byteLimit": 2048000,
      "rowLimit": 10000
     },
     "inputWidgets": {},
     "nuid": "b007a183-9632-474c-9731-eed777da41ce",
     "showTitle": false,
     "title": ""
    }
   },
   "outputs": [],
   "source": [
    "# Write df to datalakestorage in delta format\n",
    "df.write.mode(\"overwrite\").option(\"header\", 'true').format(\"delta\").save(\"/mnt/goldhdata/2024/\")\n",
    "\n",
    "# Write df_2023 to datalakestorage in delta format\n",
    "df1.write.mode(\"overwrite\").option(\"header\", 'true').format(\"delta\").save(\"/mnt/goldhdata/2017-2024/\")"
   ]
  }
 ],
 "metadata": {
  "application/vnd.databricks.v1+notebook": {
   "dashboards": [],
   "language": "python",
   "notebookMetadata": {
    "pythonIndentUnit": 4
   },
   "notebookName": "silver2gold",
   "widgets": {}
  }
 },
 "nbformat": 4,
 "nbformat_minor": 0
}
