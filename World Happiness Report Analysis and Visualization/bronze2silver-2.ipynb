{
 "cells": [
  {
   "cell_type": "code",
   "execution_count": 0,
   "metadata": {
    "application/vnd.databricks.v1+cell": {
     "cellMetadata": {
      "byteLimit": 2048000,
      "rowLimit": 10000
     },
     "inputWidgets": {},
     "nuid": "520f813d-7438-4f1d-87eb-426affc645ac",
     "showTitle": false,
     "title": ""
    }
   },
   "outputs": [
    {
     "output_type": "execute_result",
     "data": {
      "text/plain": [
       "[FileInfo(path='dbfs:/mnt/bronzehdata/2024/', name='2024/', size=0, modificationTime=1712283255000)]"
      ]
     },
     "execution_count": 12,
     "metadata": {},
     "output_type": "execute_result"
    }
   ],
   "source": [
    "dbutils.fs.ls(\"mnt/bronzehdata/\")"
   ]
  },
  {
   "cell_type": "code",
   "execution_count": 0,
   "metadata": {
    "application/vnd.databricks.v1+cell": {
     "cellMetadata": {
      "byteLimit": 2048000,
      "rowLimit": 10000
     },
     "inputWidgets": {},
     "nuid": "5819fb4b-cef8-41a6-a064-50019f10ee1a",
     "showTitle": false,
     "title": ""
    }
   },
   "outputs": [],
   "source": [
    "data2024 =  \"/mnt/bronzehdata/2024/2024.csv\""
   ]
  },
  {
   "cell_type": "code",
   "execution_count": 0,
   "metadata": {
    "application/vnd.databricks.v1+cell": {
     "cellMetadata": {
      "byteLimit": 2048000,
      "rowLimit": 10000
     },
     "inputWidgets": {},
     "nuid": "d97b9b46-4082-45c4-af91-e5570865b301",
     "showTitle": false,
     "title": ""
    }
   },
   "outputs": [
    {
     "output_type": "display_data",
     "data": {
      "text/html": [
       "<style scoped>\n",
       "  .table-result-container {\n",
       "    max-height: 300px;\n",
       "    overflow: auto;\n",
       "  }\n",
       "  table, th, td {\n",
       "    border: 1px solid black;\n",
       "    border-collapse: collapse;\n",
       "  }\n",
       "  th, td {\n",
       "    padding: 5px;\n",
       "  }\n",
       "  th {\n",
       "    text-align: left;\n",
       "  }\n",
       "</style><div class='table-result-container'><table class='table-result'><thead style='background-color: white'><tr><th>Country name</th><th>year</th><th>Life Ladder</th><th>Log GDP per capita</th><th>Social support</th><th>Healthy life expectancy at birth</th><th>Freedom to make life choices</th><th>Generosity</th><th>Perceptions of corruption</th><th>Positive affect</th><th>Negative affect</th></tr></thead><tbody><tr><td>Afghanistan</td><td>2008</td><td>3.724</td><td>7.35</td><td>0.451</td><td>50.5</td><td>0.718</td><td>0.164</td><td>0.882</td><td>0.414</td><td>0.258</td></tr><tr><td>Afghanistan</td><td>2009</td><td>4.402</td><td>7.509</td><td>0.552</td><td>50.8</td><td>0.679</td><td>0.187</td><td>0.85</td><td>0.481</td><td>0.237</td></tr><tr><td>Afghanistan</td><td>2010</td><td>4.758</td><td>7.614</td><td>0.539</td><td>51.1</td><td>0.6</td><td>0.118</td><td>0.707</td><td>0.517</td><td>0.275</td></tr><tr><td>Afghanistan</td><td>2011</td><td>3.832</td><td>7.581</td><td>0.521</td><td>51.4</td><td>0.496</td><td>0.16</td><td>0.731</td><td>0.48</td><td>0.267</td></tr><tr><td>Afghanistan</td><td>2012</td><td>3.783</td><td>7.661</td><td>0.521</td><td>51.7</td><td>0.531</td><td>0.234</td><td>0.776</td><td>0.614</td><td>0.268</td></tr><tr><td>Afghanistan</td><td>2013</td><td>3.572</td><td>7.68</td><td>0.484</td><td>52.0</td><td>0.578</td><td>0.059</td><td>0.823</td><td>0.547</td><td>0.273</td></tr><tr><td>Afghanistan</td><td>2014</td><td>3.131</td><td>7.671</td><td>0.526</td><td>52.3</td><td>0.509</td><td>0.102</td><td>0.871</td><td>0.492</td><td>0.375</td></tr><tr><td>Afghanistan</td><td>2015</td><td>3.983</td><td>7.654</td><td>0.529</td><td>52.6</td><td>0.389</td><td>0.078</td><td>0.881</td><td>0.491</td><td>0.339</td></tr><tr><td>Afghanistan</td><td>2016</td><td>4.22</td><td>7.65</td><td>0.559</td><td>52.925</td><td>0.523</td><td>0.04</td><td>0.793</td><td>0.501</td><td>0.348</td></tr><tr><td>Afghanistan</td><td>2017</td><td>2.662</td><td>7.648</td><td>0.491</td><td>53.25</td><td>0.427</td><td>-0.123</td><td>0.954</td><td>0.435</td><td>0.371</td></tr></tbody></table></div>"
      ]
     },
     "metadata": {
      "application/vnd.databricks.v1+output": {
       "addedWidgets": {},
       "aggData": [],
       "aggError": "",
       "aggOverflow": false,
       "aggSchema": [],
       "aggSeriesLimitReached": false,
       "aggType": "",
       "arguments": {},
       "columnCustomDisplayInfos": {},
       "data": [
        [
         "Afghanistan",
         2008,
         3.724,
         7.35,
         0.451,
         50.5,
         0.718,
         0.164,
         0.882,
         0.414,
         0.258
        ],
        [
         "Afghanistan",
         2009,
         4.402,
         7.509,
         0.552,
         50.8,
         0.679,
         0.187,
         0.85,
         0.481,
         0.237
        ],
        [
         "Afghanistan",
         2010,
         4.758,
         7.614,
         0.539,
         51.1,
         0.6,
         0.118,
         0.707,
         0.517,
         0.275
        ],
        [
         "Afghanistan",
         2011,
         3.832,
         7.581,
         0.521,
         51.4,
         0.496,
         0.16,
         0.731,
         0.48,
         0.267
        ],
        [
         "Afghanistan",
         2012,
         3.783,
         7.661,
         0.521,
         51.7,
         0.531,
         0.234,
         0.776,
         0.614,
         0.268
        ],
        [
         "Afghanistan",
         2013,
         3.572,
         7.68,
         0.484,
         52.0,
         0.578,
         0.059,
         0.823,
         0.547,
         0.273
        ],
        [
         "Afghanistan",
         2014,
         3.131,
         7.671,
         0.526,
         52.3,
         0.509,
         0.102,
         0.871,
         0.492,
         0.375
        ],
        [
         "Afghanistan",
         2015,
         3.983,
         7.654,
         0.529,
         52.6,
         0.389,
         0.078,
         0.881,
         0.491,
         0.339
        ],
        [
         "Afghanistan",
         2016,
         4.22,
         7.65,
         0.559,
         52.925,
         0.523,
         0.04,
         0.793,
         0.501,
         0.348
        ],
        [
         "Afghanistan",
         2017,
         2.662,
         7.648,
         0.491,
         53.25,
         0.427,
         -0.123,
         0.954,
         0.435,
         0.371
        ]
       ],
       "datasetInfos": [],
       "dbfsResultPath": null,
       "isJsonSchema": true,
       "metadata": {},
       "overflow": false,
       "plotOptions": {
        "customPlotOptions": {},
        "displayType": "table",
        "pivotAggregation": null,
        "pivotColumns": null,
        "xColumns": null,
        "yColumns": null
       },
       "removedWidgets": [],
       "schema": [
        {
         "metadata": "{}",
         "name": "Country name",
         "type": "\"string\""
        },
        {
         "metadata": "{}",
         "name": "year",
         "type": "\"integer\""
        },
        {
         "metadata": "{}",
         "name": "Life Ladder",
         "type": "\"double\""
        },
        {
         "metadata": "{}",
         "name": "Log GDP per capita",
         "type": "\"double\""
        },
        {
         "metadata": "{}",
         "name": "Social support",
         "type": "\"double\""
        },
        {
         "metadata": "{}",
         "name": "Healthy life expectancy at birth",
         "type": "\"double\""
        },
        {
         "metadata": "{}",
         "name": "Freedom to make life choices",
         "type": "\"double\""
        },
        {
         "metadata": "{}",
         "name": "Generosity",
         "type": "\"double\""
        },
        {
         "metadata": "{}",
         "name": "Perceptions of corruption",
         "type": "\"double\""
        },
        {
         "metadata": "{}",
         "name": "Positive affect",
         "type": "\"double\""
        },
        {
         "metadata": "{}",
         "name": "Negative affect",
         "type": "\"double\""
        }
       ],
       "type": "table"
      }
     },
     "output_type": "display_data"
    },
    {
     "output_type": "execute_result",
     "data": {
      "text/plain": [
       "<bound method DataFrame.printSchema of DataFrame[Country name: string, year: int, Life Ladder: double, Log GDP per capita: double, Social support: double, Healthy life expectancy at birth: double, Freedom to make life choices: double, Generosity: double, Perceptions of corruption: double, Positive affect: double, Negative affect: double]>"
      ]
     },
     "execution_count": 3,
     "metadata": {},
     "output_type": "execute_result"
    }
   ],
   "source": [
    "df = spark.read.format('csv').options(header=True, inferSchema = True).load(data2024)\n",
    "df.limit(10).display()\n",
    "df.printSchema"
   ]
  },
  {
   "cell_type": "code",
   "execution_count": 0,
   "metadata": {
    "application/vnd.databricks.v1+cell": {
     "cellMetadata": {
      "byteLimit": 2048000,
      "rowLimit": 10000
     },
     "inputWidgets": {},
     "nuid": "f26a8bcc-5483-4be9-a6fe-7b4817243ffa",
     "showTitle": false,
     "title": ""
    }
   },
   "outputs": [],
   "source": [
    "# Drop the columns after 'Perceptions of corruption' column\n",
    "columns_to_drop = df.columns[df.columns.index('Perceptions of corruption')+1:]\n",
    "df = df.drop(*columns_to_drop)"
   ]
  },
  {
   "cell_type": "code",
   "execution_count": 0,
   "metadata": {
    "application/vnd.databricks.v1+cell": {
     "cellMetadata": {
      "byteLimit": 2048000,
      "rowLimit": 10000
     },
     "inputWidgets": {},
     "nuid": "e7785f9b-977a-49dc-8084-f84fa09a4c73",
     "showTitle": false,
     "title": ""
    }
   },
   "outputs": [],
   "source": [
    "# Edit column names in the dataframe df\n",
    "\n",
    "from pyspark.sql.functions import col\n",
    "\n",
    "df = df.withColumnRenamed(\"Country name\", \"country_name\") \\\n",
    "       .withColumnRenamed(\"Life Ladder\", \"score\") \\\n",
    "       .withColumnRenamed(\"Ladder score\", \"ladder_score\") \\\n",
    "       .withColumnRenamed(\"Log GDP per capita\", \"gdp\") \\\n",
    "       .withColumnRenamed(\"Social support\", \"social_support\") \\\n",
    "       .withColumnRenamed(\"Healthy life expectancy at birth\", \"healthy_life_expectancy\") \\\n",
    "       .withColumnRenamed(\"Freedom to make life choices\", \"freedom_rights\") \\\n",
    "       .withColumnRenamed(\"Generosity\", \"generosity\") \\\n",
    "       .withColumnRenamed(\"Perceptions of corruption\", \"corruption\") \\\n",
    "    \n",
    "\n",
    "# Column names edited as per the required naming convention"
   ]
  },
  {
   "cell_type": "code",
   "execution_count": 0,
   "metadata": {
    "application/vnd.databricks.v1+cell": {
     "cellMetadata": {
      "byteLimit": 2048000,
      "rowLimit": 10000
     },
     "inputWidgets": {},
     "nuid": "532dc74a-2a0a-4777-9dc6-7be72ceb0c49",
     "showTitle": false,
     "title": ""
    }
   },
   "outputs": [
    {
     "output_type": "display_data",
     "data": {
      "text/html": [
       "<style scoped>\n",
       "  .table-result-container {\n",
       "    max-height: 300px;\n",
       "    overflow: auto;\n",
       "  }\n",
       "  table, th, td {\n",
       "    border: 1px solid black;\n",
       "    border-collapse: collapse;\n",
       "  }\n",
       "  th, td {\n",
       "    padding: 5px;\n",
       "  }\n",
       "  th {\n",
       "    text-align: left;\n",
       "  }\n",
       "</style><div class='table-result-container'><table class='table-result'><thead style='background-color: white'><tr><th>Country name</th><th>year</th><th>Life Ladder</th><th>Log GDP per capita</th><th>Social support</th><th>Healthy life expectancy at birth</th><th>Freedom to make life choices</th><th>Generosity</th><th>Perceptions of corruption</th><th>Positive affect</th><th>Negative affect</th></tr></thead><tbody><tr><td>Afghanistan</td><td>2023</td><td>1.446</td><td>null</td><td>0.368</td><td>55.2</td><td>0.228</td><td>null</td><td>0.738</td><td>0.261</td><td>0.46</td></tr><tr><td>Albania</td><td>2023</td><td>5.445</td><td>9.689</td><td>0.691</td><td>69.2</td><td>0.872</td><td>0.068</td><td>0.855</td><td>0.597</td><td>0.314</td></tr><tr><td>Argentina</td><td>2023</td><td>6.393</td><td>9.994</td><td>0.892</td><td>67.3</td><td>0.832</td><td>-0.129</td><td>0.846</td><td>0.72</td><td>0.301</td></tr><tr><td>Armenia</td><td>2023</td><td>5.679</td><td>9.73</td><td>0.819</td><td>68.2</td><td>0.819</td><td>-0.179</td><td>0.681</td><td>0.575</td><td>0.423</td></tr><tr><td>Australia</td><td>2023</td><td>7.025</td><td>10.846</td><td>0.896</td><td>71.2</td><td>0.876</td><td>0.187</td><td>0.482</td><td>0.731</td><td>0.248</td></tr><tr><td>Austria</td><td>2023</td><td>6.636</td><td>10.93</td><td>0.874</td><td>71.4</td><td>0.874</td><td>0.209</td><td>0.529</td><td>0.712</td><td>0.24</td></tr><tr><td>Azerbaijan</td><td>2023</td><td>5.214</td><td>9.637</td><td>0.713</td><td>64.1</td><td>0.829</td><td>-0.16</td><td>0.627</td><td>0.509</td><td>0.221</td></tr><tr><td>Bahrain</td><td>2023</td><td>5.959</td><td>10.877</td><td>0.817</td><td>65.6</td><td>0.869</td><td>0.155</td><td>null</td><td>0.671</td><td>0.336</td></tr><tr><td>Bangladesh</td><td>2023</td><td>4.114</td><td>8.783</td><td>0.45</td><td>64.8</td><td>0.919</td><td>0.019</td><td>0.756</td><td>0.435</td><td>0.435</td></tr><tr><td>Belgium</td><td>2023</td><td>6.944</td><td>10.883</td><td>0.896</td><td>71.2</td><td>0.87</td><td>0.065</td><td>0.522</td><td>0.725</td><td>0.245</td></tr></tbody></table></div>"
      ]
     },
     "metadata": {
      "application/vnd.databricks.v1+output": {
       "addedWidgets": {},
       "aggData": [],
       "aggError": "",
       "aggOverflow": false,
       "aggSchema": [],
       "aggSeriesLimitReached": false,
       "aggType": "",
       "arguments": {},
       "columnCustomDisplayInfos": {},
       "data": [
        [
         "Afghanistan",
         2023,
         1.446,
         null,
         0.368,
         55.2,
         0.228,
         null,
         0.738,
         0.261,
         0.46
        ],
        [
         "Albania",
         2023,
         5.445,
         9.689,
         0.691,
         69.2,
         0.872,
         0.068,
         0.855,
         0.597,
         0.314
        ],
        [
         "Argentina",
         2023,
         6.393,
         9.994,
         0.892,
         67.3,
         0.832,
         -0.129,
         0.846,
         0.72,
         0.301
        ],
        [
         "Armenia",
         2023,
         5.679,
         9.73,
         0.819,
         68.2,
         0.819,
         -0.179,
         0.681,
         0.575,
         0.423
        ],
        [
         "Australia",
         2023,
         7.025,
         10.846,
         0.896,
         71.2,
         0.876,
         0.187,
         0.482,
         0.731,
         0.248
        ],
        [
         "Austria",
         2023,
         6.636,
         10.93,
         0.874,
         71.4,
         0.874,
         0.209,
         0.529,
         0.712,
         0.24
        ],
        [
         "Azerbaijan",
         2023,
         5.214,
         9.637,
         0.713,
         64.1,
         0.829,
         -0.16,
         0.627,
         0.509,
         0.221
        ],
        [
         "Bahrain",
         2023,
         5.959,
         10.877,
         0.817,
         65.6,
         0.869,
         0.155,
         null,
         0.671,
         0.336
        ],
        [
         "Bangladesh",
         2023,
         4.114,
         8.783,
         0.45,
         64.8,
         0.919,
         0.019,
         0.756,
         0.435,
         0.435
        ],
        [
         "Belgium",
         2023,
         6.944,
         10.883,
         0.896,
         71.2,
         0.87,
         0.065,
         0.522,
         0.725,
         0.245
        ]
       ],
       "datasetInfos": [],
       "dbfsResultPath": null,
       "isJsonSchema": true,
       "metadata": {},
       "overflow": false,
       "plotOptions": {
        "customPlotOptions": {},
        "displayType": "table",
        "pivotAggregation": null,
        "pivotColumns": null,
        "xColumns": null,
        "yColumns": null
       },
       "removedWidgets": [],
       "schema": [
        {
         "metadata": "{}",
         "name": "Country name",
         "type": "\"string\""
        },
        {
         "metadata": "{}",
         "name": "year",
         "type": "\"integer\""
        },
        {
         "metadata": "{}",
         "name": "Life Ladder",
         "type": "\"double\""
        },
        {
         "metadata": "{}",
         "name": "Log GDP per capita",
         "type": "\"double\""
        },
        {
         "metadata": "{}",
         "name": "Social support",
         "type": "\"double\""
        },
        {
         "metadata": "{}",
         "name": "Healthy life expectancy at birth",
         "type": "\"double\""
        },
        {
         "metadata": "{}",
         "name": "Freedom to make life choices",
         "type": "\"double\""
        },
        {
         "metadata": "{}",
         "name": "Generosity",
         "type": "\"double\""
        },
        {
         "metadata": "{}",
         "name": "Perceptions of corruption",
         "type": "\"double\""
        },
        {
         "metadata": "{}",
         "name": "Positive affect",
         "type": "\"double\""
        },
        {
         "metadata": "{}",
         "name": "Negative affect",
         "type": "\"double\""
        }
       ],
       "type": "table"
      }
     },
     "output_type": "display_data"
    }
   ],
   "source": [
    "# Create a dataframe containing only the rows in the year 2023\n",
    "df_2023 = df.filter(df.year == 2023)\n",
    "\n",
    "# Display the dataframe df_2022\n",
    "df_2023.limit(10).display()"
   ]
  },
  {
   "cell_type": "code",
   "execution_count": 0,
   "metadata": {
    "application/vnd.databricks.v1+cell": {
     "cellMetadata": {
      "byteLimit": 2048000,
      "rowLimit": 10000
     },
     "inputWidgets": {},
     "nuid": "75122def-f911-4a41-9339-726c98aa5217",
     "showTitle": false,
     "title": ""
    }
   },
   "outputs": [],
   "source": [
    "# Replace null values with 0 in all columns\n",
    "df = df.na.fill(0.0)\n",
    "df_2023.fillna(0).show()"
   ]
  },
  {
   "cell_type": "code",
   "execution_count": 0,
   "metadata": {
    "application/vnd.databricks.v1+cell": {
     "cellMetadata": {
      "byteLimit": 2048000,
      "rowLimit": 10000
     },
     "inputWidgets": {},
     "nuid": "1a4a5db6-1719-4665-96b5-0473a6917e25",
     "showTitle": false,
     "title": ""
    }
   },
   "outputs": [],
   "source": [
    "# display the tables\n",
    "df.limit(10).display()\n",
    "df_2023.limit(10).display()"
   ]
  },
  {
   "cell_type": "code",
   "execution_count": 0,
   "metadata": {
    "application/vnd.databricks.v1+cell": {
     "cellMetadata": {
      "byteLimit": 2048000,
      "rowLimit": 10000
     },
     "inputWidgets": {},
     "nuid": "57564cb5-ab71-4d48-a170-c0c8d85373d8",
     "showTitle": false,
     "title": ""
    }
   },
   "outputs": [],
   "source": [
    "# Write df to datalakestorage in delta format\n",
    "df.write.mode(\"overwrite\").option(\"header\", 'true').format(\"delta\").save(\"/mnt/silverhdata/2017-2024/\")\n",
    "\n",
    "# Write df_2023 to datalakestorage in delta format\n",
    "df_2023.write.mode(\"overwrite\").option(\"header\", 'true').format(\"delta\").save(\"/mnt/silverhdata/2024/\")"
   ]
  }
 ],
 "metadata": {
  "application/vnd.databricks.v1+notebook": {
   "dashboards": [],
   "language": "python",
   "notebookMetadata": {
    "pythonIndentUnit": 4
   },
   "notebookName": "bronze2silver",
   "widgets": {}
  }
 },
 "nbformat": 4,
 "nbformat_minor": 0
}
