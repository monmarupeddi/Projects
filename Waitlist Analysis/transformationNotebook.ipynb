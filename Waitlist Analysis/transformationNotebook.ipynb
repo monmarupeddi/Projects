-- merge tables
DROP TABLE IF EXISTS ip_data;
DROP TABLE IF EXISTS op_data;


CREATE TABLE op_data (
Archive_Date STRING,
Specialty_HIPE INT,
Speciality STRING, Adult_Child STRING, Age_Profile STRING, Time_Bands STRING, Total INT ) USING delta;


CREATE TABLE ip_data (
Archive_Date STRING,
Specialty_HIPE INT,
Specialty_Name STRING, Case_Type STRING, Adult_Child STRING, Age_Profile STRING, Time_Bands STRING, Total INT ) USING delta;


-- load the values of all the tables in both outpatient and inpatient data
INSERT INTO moni.op_data  FROM (SELECT Archive_Date, 
       Specialty_HIPE,  
       Speciality,
       Adult_Child,
       Age_Profile,
       Time_Bands,
       Total FROM moni.op_wl2019
       UNION ALL
       SELECT Archive_Date, 
       Specialty_HIPE,  
       Speciality,
       Adult_Child,
       Age_Profile,
       Time_Bands,
       Total FROM moni.op_wl2020 UNION ALL SELECT Archive_Date, 
       Specialty_HIPE,  
       Speciality,
       Adult_Child,
       Age_Profile,
       Time_Bands,
       Total FROM moni.op_wl2021
       )
SELECT Archive_Date, 
Specialty_HIPE,  
Speciality,
Adult_Child,
Age_Profile,
Time_Bands,
Total


INSERT INTO moni.ip_data  FROM (SELECT Archive_Date, 
       Specialty_HIPE,  
       Specialty_Name,
       Case_Type,
       Adult_Child,
       Age_Profile,
       Time_Bands,
       Total FROM moni.in_wl2019
       UNION ALL
       SELECT Archive_Date, 
       Specialty_HIPE,  
       Specialty_Name,
       Case_Type,
       Adult_Child,
       Age_Profile,
       Time_Bands,
       Total FROM moni.in_wl2020 UNION ALL SELECT Archive_Date, 
       Specialty_HIPE,  
       Specialty_Name,
       Case_Type,
       Adult_Child,
       Age_Profile,
       Time_Bands,
       Total FROM moni.in_wl2021
       )
SELECT Archive_Date, 
Specialty_HIPE,  
Specialty_Name,
Case_Type,
Adult_Child,
Age_Profile,
Time_Bands,
Total


-- adjust table proeprties to make data cleaning and analysis operations
ALTER TABLE moni.op_data SET TBLPROPERTIES (
  'delta.columnMapping.mode' = 'name',
  'delta.minReaderVersion' = '2',
  'delta.minWriterVersion' = '5')
select * from moni.op_data limit 10;
ALTER TABLE moni.op_data RENAME COLUMN Speciality TO Specialty_Name;


-- add missing column to match to in-patient table schema
ALTER TABLE moni.op_data ADD COLUMN (Case_Type STRING);
UPDATE moni.op_data SET Case_Type = "Outpatient";


DROP TABLE  IF EXISTS tempo;


CREATE TABLE tempo AS
SELECT Archive_Date,
Specialty_HIPE,
Specialty_Name, Case_Type, Adult_Child, Age_Profile, Time_Bands, Total FROM moni.op_data;




-- Optionally, drop the old table if you want to replace it
DROP TABLE op_data;


-- -- Optionally, rename the new table to match the old table name
ALTER TABLE tempo RENAME TO op_data;


DROP TABLE IF EXISTS moni.all_data;
CREATE TABLE all_data (Archive_Date STRING,
Specialty_HIPE INT,
Specialty_Name STRING, Case_Type STRING, Adult_Child STRING, Age_Profile STRING, Time_Bands STRING, Total INT ) USING delta ;
desc moni.all_data;


INSERT INTO moni.all_data FROM (SELECT Archive_Date, 
       Specialty_HIPE,  
       Specialty_Name,
       Case_Type,
       Adult_Child,
       Age_Profile,
       Time_Bands,
       Total FROM moni.op_data
       UNION ALL
       SELECT Archive_Date, 
       Specialty_HIPE,  
       Specialty_Name,
       Case_Type,
       Adult_Child,
       Age_Profile,
       Time_Bands,
       Total FROM moni.ip_data
       )
SELECT Archive_Date, 
Specialty_HIPE,  
Specialty_Name,
Case_Type,
Adult_Child,
Age_Profile,
Time_Bands,
Total ;


%%pyspark
df3 = spark.sql("SELECT * FROM moni.all_data")
# display(df3)
df3 = df3.withColumn('Year', df3['Archive_Date'].substr(7, 4))
# display(df3)
import pyspark.sql.functions as F
df8 = spark.sql("SELECT * FROM moni.all_data")
# Converting the "age" column from string to integer
# df8 = df8.withColumn("Archive", df8["Archive_Date"].cast("date"))


df8 = df8.withColumn("Archive", F.to_date("Archive_Date", format="dd-MM-yyyy"))
df8.printSchema()
df8.write.mode('overwrite').option("mergeSchema", "true").format("delta").saveAsTable("all_data")
drop table if exists dummy_table;
create table dummy_table (dummy STRING);
INSERT INTO dummy_table (dummy) VALUES("Avg Monthly Waitlist");
INSERT INTO dummy_table (dummy) VALUES("Avg Yearly Waitlist");
